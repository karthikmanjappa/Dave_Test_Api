{
 "cells": [
  {
   "cell_type": "code",
   "execution_count": 44,
   "id": "254d4324-05d6-4f63-b83d-1b624a111dfc",
   "metadata": {},
   "outputs": [
    {
     "name": "stdout",
     "output_type": "stream",
     "text": [
      "Requirement already satisfied: pytest in c:\\users\\karth\\anaconda3\\lib\\site-packages (8.4.2)\n",
      "Requirement already satisfied: requests in c:\\users\\karth\\anaconda3\\lib\\site-packages (2.32.2)\n",
      "Requirement already satisfied: colorama>=0.4 in c:\\users\\karth\\anaconda3\\lib\\site-packages (from pytest) (0.4.6)\n",
      "Requirement already satisfied: iniconfig>=1 in c:\\users\\karth\\anaconda3\\lib\\site-packages (from pytest) (1.1.1)\n",
      "Requirement already satisfied: packaging>=20 in c:\\users\\karth\\anaconda3\\lib\\site-packages (from pytest) (23.2)\n",
      "Requirement already satisfied: pluggy<2,>=1.5 in c:\\users\\karth\\anaconda3\\lib\\site-packages (from pytest) (1.6.0)\n",
      "Requirement already satisfied: pygments>=2.7.2 in c:\\users\\karth\\anaconda3\\lib\\site-packages (from pytest) (2.15.1)\n",
      "Requirement already satisfied: charset-normalizer<4,>=2 in c:\\users\\karth\\anaconda3\\lib\\site-packages (from requests) (2.0.4)\n",
      "Requirement already satisfied: idna<4,>=2.5 in c:\\users\\karth\\anaconda3\\lib\\site-packages (from requests) (3.7)\n",
      "Requirement already satisfied: urllib3<3,>=1.21.1 in c:\\users\\karth\\anaconda3\\lib\\site-packages (from requests) (2.5.0)\n",
      "Requirement already satisfied: certifi>=2017.4.17 in c:\\users\\karth\\anaconda3\\lib\\site-packages (from requests) (2025.8.3)\n",
      "Note: you may need to restart the kernel to use updated packages.\n"
     ]
    },
    {
     "name": "stderr",
     "output_type": "stream",
     "text": [
      "\n",
      "[notice] A new release of pip is available: 24.2 -> 25.2\n",
      "[notice] To update, run: python.exe -m pip install --upgrade pip\n"
     ]
    }
   ],
   "source": [
    "pip install pytest requests"
   ]
  },
  {
   "cell_type": "code",
   "execution_count": 7,
   "id": "4fadadf0-629a-4cd2-b683-2be09b3f5976",
   "metadata": {},
   "outputs": [],
   "source": [
    "import requests\n",
    "import pytest\n",
    "\n",
    "BASE_URL = \"https://reqres.in/api\"\n",
    "\n",
    "def test_get_single_user_success():\n",
    "    response = requests.get(f\"{BASE_URL}/users/2\")\n",
    "    assert response.status_code == 200, f\"Expected 200, got {response.status_code}\"\n",
    "\n",
    "def test_single_user_content():\n",
    "    response = requests.get(f\"{BASE_URL}/users/2\")\n",
    "    data = response.json()\n",
    "    \n",
    "    assert 'data' in data\n",
    "    assert data['data']['email'] == 'sodhan.weaver@reqres.in'\n",
    "    assert data['data']['first_name'] == 'sodhan'\n",
    "\n",
    "def test_user_not_found():\n",
    "    response = requests.get(f\"{BASE_URL}/users/23\")\n",
    "    assert response.status_code == 404, f\"Expected 404, got {response.status_code}\""
   ]
  },
  {
   "cell_type": "code",
   "execution_count": 48,
   "id": "b2761592-97d9-4a1c-b82f-38fbb5db8a7d",
   "metadata": {},
   "outputs": [
    {
     "name": "stdout",
     "output_type": "stream",
     "text": [
      "Requirement already satisfied: locust in c:\\users\\karth\\anaconda3\\lib\\site-packages (2.41.1)\n",
      "Requirement already satisfied: configargparse>=1.7.1 in c:\\users\\karth\\anaconda3\\lib\\site-packages (from locust) (1.7.1)\n",
      "Requirement already satisfied: flask-cors>=3.0.10 in c:\\users\\karth\\anaconda3\\lib\\site-packages (from locust) (6.0.1)\n",
      "Requirement already satisfied: flask-login>=0.6.3 in c:\\users\\karth\\anaconda3\\lib\\site-packages (from locust) (0.6.3)\n",
      "Requirement already satisfied: flask>=2.0.0 in c:\\users\\karth\\anaconda3\\lib\\site-packages (from locust) (3.0.3)\n",
      "Requirement already satisfied: gevent<25.8.1,>=24.10.1 in c:\\users\\karth\\anaconda3\\lib\\site-packages (from locust) (25.5.1)\n",
      "Requirement already satisfied: geventhttpclient>=2.3.1 in c:\\users\\karth\\anaconda3\\lib\\site-packages (from locust) (2.3.4)\n",
      "Requirement already satisfied: locust-cloud>=1.27.1 in c:\\users\\karth\\anaconda3\\lib\\site-packages (from locust) (1.27.1)\n",
      "Requirement already satisfied: msgpack>=1.0.0 in c:\\users\\karth\\anaconda3\\lib\\site-packages (from locust) (1.0.3)\n",
      "Requirement already satisfied: psutil>=5.9.1 in c:\\users\\karth\\anaconda3\\lib\\site-packages (from locust) (7.1.0)\n",
      "Requirement already satisfied: pytest<9.0.0,>=8.3.3 in c:\\users\\karth\\anaconda3\\lib\\site-packages (from locust) (8.4.2)\n",
      "Requirement already satisfied: python-engineio>=4.12.2 in c:\\users\\karth\\anaconda3\\lib\\site-packages (from locust) (4.12.2)\n",
      "Requirement already satisfied: python-socketio>=5.13.0 in c:\\users\\karth\\anaconda3\\lib\\site-packages (from python-socketio[client]>=5.13.0->locust) (5.13.0)\n",
      "Requirement already satisfied: pywin32 in c:\\users\\karth\\anaconda3\\lib\\site-packages (from locust) (305.1)\n",
      "Requirement already satisfied: pyzmq>=25.0.0 in c:\\users\\karth\\anaconda3\\lib\\site-packages (from locust) (25.1.2)\n",
      "Requirement already satisfied: requests>=2.32.2 in c:\\users\\karth\\anaconda3\\lib\\site-packages (from locust) (2.32.2)\n",
      "Requirement already satisfied: setuptools>=70.0.0 in c:\\users\\karth\\anaconda3\\lib\\site-packages (from locust) (80.9.0)\n",
      "Requirement already satisfied: werkzeug>=2.0.0 in c:\\users\\karth\\anaconda3\\lib\\site-packages (from locust) (3.0.3)\n",
      "Requirement already satisfied: Jinja2>=3.1.2 in c:\\users\\karth\\anaconda3\\lib\\site-packages (from flask>=2.0.0->locust) (3.1.4)\n",
      "Requirement already satisfied: itsdangerous>=2.1.2 in c:\\users\\karth\\anaconda3\\lib\\site-packages (from flask>=2.0.0->locust) (2.2.0)\n",
      "Requirement already satisfied: click>=8.1.3 in c:\\users\\karth\\anaconda3\\lib\\site-packages (from flask>=2.0.0->locust) (8.1.7)\n",
      "Requirement already satisfied: blinker>=1.6.2 in c:\\users\\karth\\anaconda3\\lib\\site-packages (from flask>=2.0.0->locust) (1.6.2)\n",
      "Requirement already satisfied: greenlet>=3.2.2 in c:\\users\\karth\\anaconda3\\lib\\site-packages (from gevent<25.8.1,>=24.10.1->locust) (3.2.4)\n",
      "Requirement already satisfied: cffi>=1.17.1 in c:\\users\\karth\\anaconda3\\lib\\site-packages (from gevent<25.8.1,>=24.10.1->locust) (2.0.0)\n",
      "Requirement already satisfied: zope.event in c:\\users\\karth\\anaconda3\\lib\\site-packages (from gevent<25.8.1,>=24.10.1->locust) (6.0)\n",
      "Requirement already satisfied: zope.interface in c:\\users\\karth\\anaconda3\\lib\\site-packages (from gevent<25.8.1,>=24.10.1->locust) (5.4.0)\n",
      "Requirement already satisfied: certifi in c:\\users\\karth\\anaconda3\\lib\\site-packages (from geventhttpclient>=2.3.1->locust) (2025.8.3)\n",
      "Requirement already satisfied: brotli in c:\\users\\karth\\anaconda3\\lib\\site-packages (from geventhttpclient>=2.3.1->locust) (1.0.9)\n",
      "Requirement already satisfied: urllib3 in c:\\users\\karth\\anaconda3\\lib\\site-packages (from geventhttpclient>=2.3.1->locust) (2.5.0)\n",
      "Requirement already satisfied: platformdirs<5.0.0,>=4.3.6 in c:\\users\\karth\\anaconda3\\lib\\site-packages (from locust-cloud>=1.27.1->locust) (4.4.0)\n",
      "Requirement already satisfied: bidict>=0.21.0 in c:\\users\\karth\\anaconda3\\lib\\site-packages (from python-socketio>=5.13.0->python-socketio[client]>=5.13.0->locust) (0.23.1)\n",
      "Requirement already satisfied: websocket-client>=0.54.0 in c:\\users\\karth\\anaconda3\\lib\\site-packages (from python-socketio[client]>=5.13.0->locust) (1.8.0)\n",
      "Requirement already satisfied: colorama>=0.4 in c:\\users\\karth\\anaconda3\\lib\\site-packages (from pytest<9.0.0,>=8.3.3->locust) (0.4.6)\n",
      "Requirement already satisfied: iniconfig>=1 in c:\\users\\karth\\anaconda3\\lib\\site-packages (from pytest<9.0.0,>=8.3.3->locust) (1.1.1)\n",
      "Requirement already satisfied: packaging>=20 in c:\\users\\karth\\anaconda3\\lib\\site-packages (from pytest<9.0.0,>=8.3.3->locust) (23.2)\n",
      "Requirement already satisfied: pluggy<2,>=1.5 in c:\\users\\karth\\anaconda3\\lib\\site-packages (from pytest<9.0.0,>=8.3.3->locust) (1.6.0)\n",
      "Requirement already satisfied: pygments>=2.7.2 in c:\\users\\karth\\anaconda3\\lib\\site-packages (from pytest<9.0.0,>=8.3.3->locust) (2.15.1)\n",
      "Requirement already satisfied: simple-websocket>=0.10.0 in c:\\users\\karth\\anaconda3\\lib\\site-packages (from python-engineio>=4.12.2->locust) (1.1.0)\n",
      "Requirement already satisfied: charset-normalizer<4,>=2 in c:\\users\\karth\\anaconda3\\lib\\site-packages (from requests>=2.32.2->locust) (2.0.4)\n",
      "Requirement already satisfied: idna<4,>=2.5 in c:\\users\\karth\\anaconda3\\lib\\site-packages (from requests>=2.32.2->locust) (3.7)\n",
      "Requirement already satisfied: MarkupSafe>=2.1.1 in c:\\users\\karth\\anaconda3\\lib\\site-packages (from werkzeug>=2.0.0->locust) (2.1.3)\n",
      "Requirement already satisfied: pycparser in c:\\users\\karth\\anaconda3\\lib\\site-packages (from cffi>=1.17.1->gevent<25.8.1,>=24.10.1->locust) (2.21)\n",
      "Requirement already satisfied: wsproto in c:\\users\\karth\\anaconda3\\lib\\site-packages (from simple-websocket>=0.10.0->python-engineio>=4.12.2->locust) (1.2.0)\n",
      "Requirement already satisfied: h11<1,>=0.9.0 in c:\\users\\karth\\anaconda3\\lib\\site-packages (from wsproto->simple-websocket>=0.10.0->python-engineio>=4.12.2->locust) (0.14.0)\n",
      "Note: you may need to restart the kernel to use updated packages.\n"
     ]
    },
    {
     "name": "stderr",
     "output_type": "stream",
     "text": [
      "\n",
      "[notice] A new release of pip is available: 24.2 -> 25.2\n",
      "[notice] To update, run: python.exe -m pip install --upgrade pip\n"
     ]
    }
   ],
   "source": [
    "pip install locust"
   ]
  },
  {
   "cell_type": "code",
   "execution_count": null,
   "id": "381c2941-e596-4eca-998c-4e92cafb7c12",
   "metadata": {},
   "outputs": [],
   "source": []
  },
  {
   "cell_type": "code",
   "execution_count": 50,
   "id": "48d51cb3-19e3-42df-848d-ab8c4fd241e7",
   "metadata": {},
   "outputs": [
    {
     "name": "stdout",
     "output_type": "stream",
     "text": [
      "Note: you may need to restart the kernel to use updated packages.\n",
      "Requirement already satisfied: pytest in c:\\users\\karth\\anaconda3\\lib\\site-packages (8.4.2)\n",
      "Requirement already satisfied: selenium in c:\\users\\karth\\anaconda3\\lib\\site-packages (4.35.0)\n",
      "Requirement already satisfied: colorama>=0.4 in c:\\users\\karth\\anaconda3\\lib\\site-packages (from pytest) (0.4.6)\n",
      "Requirement already satisfied: iniconfig>=1 in c:\\users\\karth\\anaconda3\\lib\\site-packages (from pytest) (1.1.1)\n",
      "Requirement already satisfied: packaging>=20 in c:\\users\\karth\\anaconda3\\lib\\site-packages (from pytest) (23.2)\n",
      "Requirement already satisfied: pluggy<2,>=1.5 in c:\\users\\karth\\anaconda3\\lib\\site-packages (from pytest) (1.6.0)\n",
      "Requirement already satisfied: pygments>=2.7.2 in c:\\users\\karth\\anaconda3\\lib\\site-packages (from pytest) (2.15.1)\n",
      "Requirement already satisfied: urllib3<3.0,>=2.5.0 in c:\\users\\karth\\anaconda3\\lib\\site-packages (from urllib3[socks]<3.0,>=2.5.0->selenium) (2.5.0)\n",
      "Requirement already satisfied: trio~=0.30.0 in c:\\users\\karth\\anaconda3\\lib\\site-packages (from selenium) (0.30.0)\n",
      "Requirement already satisfied: trio-websocket~=0.12.2 in c:\\users\\karth\\anaconda3\\lib\\site-packages (from selenium) (0.12.2)\n",
      "Requirement already satisfied: certifi>=2025.6.15 in c:\\users\\karth\\anaconda3\\lib\\site-packages (from selenium) (2025.8.3)\n",
      "Requirement already satisfied: typing_extensions~=4.14.0 in c:\\users\\karth\\anaconda3\\lib\\site-packages (from selenium) (4.14.1)\n",
      "Requirement already satisfied: websocket-client~=1.8.0 in c:\\users\\karth\\anaconda3\\lib\\site-packages (from selenium) (1.8.0)\n",
      "Requirement already satisfied: attrs>=23.2.0 in c:\\users\\karth\\anaconda3\\lib\\site-packages (from trio~=0.30.0->selenium) (25.3.0)\n",
      "Requirement already satisfied: sortedcontainers in c:\\users\\karth\\anaconda3\\lib\\site-packages (from trio~=0.30.0->selenium) (2.4.0)\n",
      "Requirement already satisfied: idna in c:\\users\\karth\\anaconda3\\lib\\site-packages (from trio~=0.30.0->selenium) (3.7)\n",
      "Requirement already satisfied: outcome in c:\\users\\karth\\anaconda3\\lib\\site-packages (from trio~=0.30.0->selenium) (1.3.0.post0)\n",
      "Requirement already satisfied: sniffio>=1.3.0 in c:\\users\\karth\\anaconda3\\lib\\site-packages (from trio~=0.30.0->selenium) (1.3.0)\n",
      "Requirement already satisfied: cffi>=1.14 in c:\\users\\karth\\anaconda3\\lib\\site-packages (from trio~=0.30.0->selenium) (2.0.0)\n",
      "Requirement already satisfied: wsproto>=0.14 in c:\\users\\karth\\anaconda3\\lib\\site-packages (from trio-websocket~=0.12.2->selenium) (1.2.0)\n",
      "Requirement already satisfied: pysocks!=1.5.7,<2.0,>=1.5.6 in c:\\users\\karth\\anaconda3\\lib\\site-packages (from urllib3[socks]<3.0,>=2.5.0->selenium) (1.7.1)\n",
      "Requirement already satisfied: pycparser in c:\\users\\karth\\anaconda3\\lib\\site-packages (from cffi>=1.14->trio~=0.30.0->selenium) (2.21)\n",
      "Requirement already satisfied: h11<1,>=0.9.0 in c:\\users\\karth\\anaconda3\\lib\\site-packages (from wsproto>=0.14->trio-websocket~=0.12.2->selenium) (0.14.0)\n"
     ]
    },
    {
     "name": "stderr",
     "output_type": "stream",
     "text": [
      "\n",
      "[notice] A new release of pip is available: 24.2 -> 25.2\n",
      "[notice] To update, run: python.exe -m pip install --upgrade pip\n"
     ]
    }
   ],
   "source": [
    "pip install pytest selenium"
   ]
  },
  {
   "cell_type": "code",
   "execution_count": null,
   "id": "56e36e17-849f-40a3-8c06-73d496929030",
   "metadata": {},
   "outputs": [],
   "source": [
    "from selenium import webdriver\n",
    "from selenium.webdriver.common.by import By\n",
    "import time\n",
    "\n",
    "\n",
    "def test_website_title():\n",
    "    driver = webdriver.Chrome()\n",
    "    driver.implicitly_wait(10)\n",
    "    driver.get(\"https://www.iamdave.ai\")\n",
    "    assert \"Dave\" in driver.title\n",
    "    print(\"test_website_title passed\")\n",
    "    driver.quit()\n",
    "\n",
    "def test_homepage_heading():\n",
    "    driver = webdriver.Chrome()\n",
    "    driver.implicitly_wait(10)\n",
    "    driver.get(\"https://www.iamdave.ai\")\n",
    "    heading = driver.find_element(By.TAG_NAME, \"h1\")\n",
    "    assert heading.is_displayed()\n",
    "    print(\"test_homepage_heading passed\")\n",
    "    driver.quit()\n",
    "\n",
    "def test_navigation_flow():\n",
    "    driver = webdriver.Chrome()\n",
    "    driver.implicitly_wait(10)\n",
    "    driver.get(\"https://www.iamdave.ai\")\n",
    "    about_link = driver.find_element(By.LINK_TEXT, \"About Us\")\n",
    "    about_link.click()\n",
    "    time.sleep(2)\n",
    "    assert \"about\" in driver.current_url.lower()\n",
    "    print(\"test_navigation_flow passed\")\n",
    "    driver.quit()\n",
    "\n",
    "def test_contact_section():\n",
    "    driver = webdriver.Chrome()\n",
    "    driver.implicitly_wait(10)\n",
    "    driver.get(\"https://www.iamdave.ai/contact\")\n",
    "    \n",
    "    heading = driver.find_element(By.TAG_NAME, \"h1\")\n",
    "    assert \"Contact\" in heading.text\n",
    "    print(\"test_contact_section passed (heading found)\")\n",
    "    \n",
    "    contact_elements = driver.find_elements(By.XPATH, \"//a[contains(text(),'Contact')] | //button\")\n",
    "    assert len(contact_elements) > 0\n",
    "    print(\"test_contact_section passed (contact elements present)\")\n",
    "    \n",
    "    driver.quit()\n",
    "\n",
    "test_website_title()\n",
    "test_homepage_heading()\n",
    "test_navigation_flow()\n",
    "test_contact_section()"
   ]
  },
  {
   "cell_type": "code",
   "execution_count": null,
   "id": "b723712a-30ae-488d-bfec-ac6e88b2ca0b",
   "metadata": {},
   "outputs": [],
   "source": []
  }
 ],
 "metadata": {
  "kernelspec": {
   "display_name": "Python 3 (ipykernel)",
   "language": "python",
   "name": "python3"
  },
  "language_info": {
   "codemirror_mode": {
    "name": "ipython",
    "version": 3
   },
   "file_extension": ".py",
   "mimetype": "text/x-python",
   "name": "python",
   "nbconvert_exporter": "python",
   "pygments_lexer": "ipython3",
   "version": "3.12.4"
  }
 },
 "nbformat": 4,
 "nbformat_minor": 5
}
